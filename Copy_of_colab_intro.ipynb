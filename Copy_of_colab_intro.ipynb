{
  "nbformat": 4,
  "nbformat_minor": 0,
  "metadata": {
    "colab": {
      "name": "Copy of colab_intro.ipynb",
      "provenance": [],
      "include_colab_link": true
    },
    "kernelspec": {
      "display_name": "Python 3",
      "language": "python",
      "name": "python3"
    },
    "language_info": {
      "codemirror_mode": {
        "name": "ipython",
        "version": 3
      },
      "file_extension": ".py",
      "mimetype": "text/x-python",
      "name": "python",
      "nbconvert_exporter": "python",
      "pygments_lexer": "ipython3",
      "version": "3.7.3"
    }
  },
  "cells": [
    {
      "cell_type": "markdown",
      "metadata": {
        "id": "view-in-github",
        "colab_type": "text"
      },
      "source": [
        "<a href=\"https://colab.research.google.com/github/Sid-Oya/DS-Unit-1-Sprint-1-Data-Wrangling-and-Storytelling/blob/master/Copy_of_colab_intro.ipynb\" target=\"_parent\"><img src=\"https://colab.research.google.com/assets/colab-badge.svg\" alt=\"Open In Colab\"/></a>"
      ]
    },
    {
      "cell_type": "markdown",
      "metadata": {
        "colab_type": "text",
        "id": "kS-zSlbqnMab"
      },
      "source": [
        "## Five ways to read your data into a colab notebook"
      ]
    },
    {
      "cell_type": "code",
      "metadata": {
        "id": "QO4SFNT7sGr1",
        "colab_type": "code",
        "outputId": "5ce46172-e5da-4fa8-8ea6-5606cb151692",
        "colab": {
          "base_uri": "https://localhost:8080/",
          "height": 35
        }
      },
      "source": [
        "print('hello world')"
      ],
      "execution_count": 0,
      "outputs": [
        {
          "output_type": "stream",
          "text": [
            "hello world\n"
          ],
          "name": "stdout"
        }
      ]
    },
    {
      "cell_type": "markdown",
      "metadata": {
        "id": "M_7IKjMDsI4v",
        "colab_type": "text"
      },
      "source": [
        "hello world"
      ]
    },
    {
      "cell_type": "markdown",
      "metadata": {
        "colab_type": "text",
        "id": "ooWH1zrTnUv5"
      },
      "source": [
        "[Keyboard shortcuts for colab](https://medium.com/@tuewithmorris/google-colab-notebooks-keyboard-shortcuts-aa6a008fb91b)"
      ]
    },
    {
      "cell_type": "code",
      "metadata": {
        "colab_type": "code",
        "id": "bOQsFNwQqGGu",
        "colab": {}
      },
      "source": [
        "# imports\n",
        "import pandas as pd\n",
        "import numpy as np"
      ],
      "execution_count": 0,
      "outputs": []
    },
    {
      "cell_type": "markdown",
      "metadata": {
        "colab_type": "text",
        "id": "zTxkbPxunfX_"
      },
      "source": [
        "#### Method 1. Read data directly from a URL."
      ]
    },
    {
      "cell_type": "code",
      "metadata": {
        "colab_type": "code",
        "id": "ArZQWu4sqkr-",
        "outputId": "d1c40f41-343e-451d-8197-81133f0d00f5",
        "colab": {
          "base_uri": "https://localhost:8080/",
          "height": 198
        }
      },
      "source": [
        "# this is the simplest way to read in data\n",
        "# source: # https://opendata.dc.gov/datasets/bike-trails/data\n",
        "url = 'https://opendata.arcgis.com/datasets/e8c2b7ef54fb43d9a2ed1b0b75d0a14d_4.csv'\n",
        "bikes = pd.read_csv(url)\n",
        "bikes.head()"
      ],
      "execution_count": 0,
      "outputs": [
        {
          "output_type": "execute_result",
          "data": {
            "text/html": [
              "<div>\n",
              "<style scoped>\n",
              "    .dataframe tbody tr th:only-of-type {\n",
              "        vertical-align: middle;\n",
              "    }\n",
              "\n",
              "    .dataframe tbody tr th {\n",
              "        vertical-align: top;\n",
              "    }\n",
              "\n",
              "    .dataframe thead th {\n",
              "        text-align: right;\n",
              "    }\n",
              "</style>\n",
              "<table border=\"1\" class=\"dataframe\">\n",
              "  <thead>\n",
              "    <tr style=\"text-align: right;\">\n",
              "      <th></th>\n",
              "      <th>OBJECTID</th>\n",
              "      <th>LENGTH</th>\n",
              "      <th>NAME</th>\n",
              "      <th>STATUS</th>\n",
              "      <th>MAINTENANC</th>\n",
              "      <th>Shape_Length</th>\n",
              "      <th>MILES</th>\n",
              "      <th>ROUTEID</th>\n",
              "    </tr>\n",
              "  </thead>\n",
              "  <tbody>\n",
              "    <tr>\n",
              "      <th>0</th>\n",
              "      <td>1</td>\n",
              "      <td>827.476</td>\n",
              "      <td>National Mall Trails</td>\n",
              "      <td>Open</td>\n",
              "      <td>NPS</td>\n",
              "      <td>252.214952</td>\n",
              "      <td>0.0</td>\n",
              "      <td>NaN</td>\n",
              "    </tr>\n",
              "    <tr>\n",
              "      <th>1</th>\n",
              "      <td>2</td>\n",
              "      <td>19225.404</td>\n",
              "      <td>Capital Crescent Trail</td>\n",
              "      <td>Open</td>\n",
              "      <td></td>\n",
              "      <td>5859.914940</td>\n",
              "      <td>0.0</td>\n",
              "      <td>NaN</td>\n",
              "    </tr>\n",
              "    <tr>\n",
              "      <th>2</th>\n",
              "      <td>3</td>\n",
              "      <td>25404.687</td>\n",
              "      <td>Rock Creek Trail</td>\n",
              "      <td>Open</td>\n",
              "      <td>NPS</td>\n",
              "      <td>7743.364240</td>\n",
              "      <td>0.0</td>\n",
              "      <td>NaN</td>\n",
              "    </tr>\n",
              "    <tr>\n",
              "      <th>3</th>\n",
              "      <td>4</td>\n",
              "      <td>6201.712</td>\n",
              "      <td>Metropolitan Branch Trail</td>\n",
              "      <td>Open</td>\n",
              "      <td>DDOT</td>\n",
              "      <td>1890.285630</td>\n",
              "      <td>0.0</td>\n",
              "      <td>NaN</td>\n",
              "    </tr>\n",
              "    <tr>\n",
              "      <th>4</th>\n",
              "      <td>5</td>\n",
              "      <td>12625.091</td>\n",
              "      <td>Watts Branch Trail</td>\n",
              "      <td>Open</td>\n",
              "      <td>DDOT</td>\n",
              "      <td>3848.135455</td>\n",
              "      <td>0.0</td>\n",
              "      <td>NaN</td>\n",
              "    </tr>\n",
              "  </tbody>\n",
              "</table>\n",
              "</div>"
            ],
            "text/plain": [
              "   OBJECTID     LENGTH                       NAME  ... Shape_Length MILES  ROUTEID\n",
              "0         1    827.476       National Mall Trails  ...   252.214952   0.0      NaN\n",
              "1         2  19225.404     Capital Crescent Trail  ...  5859.914940   0.0      NaN\n",
              "2         3  25404.687           Rock Creek Trail  ...  7743.364240   0.0      NaN\n",
              "3         4   6201.712  Metropolitan Branch Trail  ...  1890.285630   0.0      NaN\n",
              "4         5  12625.091         Watts Branch Trail  ...  3848.135455   0.0      NaN\n",
              "\n",
              "[5 rows x 8 columns]"
            ]
          },
          "metadata": {
            "tags": []
          },
          "execution_count": 12
        }
      ]
    },
    {
      "cell_type": "code",
      "metadata": {
        "id": "YFp12vu1tjpj",
        "colab_type": "code",
        "outputId": "ee4a8958-d0ea-4d5b-ac47-7814ef42abc1",
        "colab": {
          "base_uri": "https://localhost:8080/",
          "height": 288
        }
      },
      "source": [
        "bikes.describe()"
      ],
      "execution_count": 0,
      "outputs": [
        {
          "output_type": "execute_result",
          "data": {
            "text/html": [
              "<div>\n",
              "<style scoped>\n",
              "    .dataframe tbody tr th:only-of-type {\n",
              "        vertical-align: middle;\n",
              "    }\n",
              "\n",
              "    .dataframe tbody tr th {\n",
              "        vertical-align: top;\n",
              "    }\n",
              "\n",
              "    .dataframe thead th {\n",
              "        text-align: right;\n",
              "    }\n",
              "</style>\n",
              "<table border=\"1\" class=\"dataframe\">\n",
              "  <thead>\n",
              "    <tr style=\"text-align: right;\">\n",
              "      <th></th>\n",
              "      <th>OBJECTID</th>\n",
              "      <th>LENGTH</th>\n",
              "      <th>Shape_Length</th>\n",
              "      <th>MILES</th>\n",
              "    </tr>\n",
              "  </thead>\n",
              "  <tbody>\n",
              "    <tr>\n",
              "      <th>count</th>\n",
              "      <td>90.000000</td>\n",
              "      <td>90.000000</td>\n",
              "      <td>90.000000</td>\n",
              "      <td>90.000000</td>\n",
              "    </tr>\n",
              "    <tr>\n",
              "      <th>mean</th>\n",
              "      <td>45.500000</td>\n",
              "      <td>5092.016700</td>\n",
              "      <td>1373.339267</td>\n",
              "      <td>0.252267</td>\n",
              "    </tr>\n",
              "    <tr>\n",
              "      <th>std</th>\n",
              "      <td>26.124701</td>\n",
              "      <td>7571.370808</td>\n",
              "      <td>2117.107049</td>\n",
              "      <td>0.750409</td>\n",
              "    </tr>\n",
              "    <tr>\n",
              "      <th>min</th>\n",
              "      <td>1.000000</td>\n",
              "      <td>0.000000</td>\n",
              "      <td>0.212543</td>\n",
              "      <td>0.000000</td>\n",
              "    </tr>\n",
              "    <tr>\n",
              "      <th>25%</th>\n",
              "      <td>23.250000</td>\n",
              "      <td>359.804000</td>\n",
              "      <td>307.372020</td>\n",
              "      <td>0.000000</td>\n",
              "    </tr>\n",
              "    <tr>\n",
              "      <th>50%</th>\n",
              "      <td>45.500000</td>\n",
              "      <td>2347.624500</td>\n",
              "      <td>722.545236</td>\n",
              "      <td>0.000000</td>\n",
              "    </tr>\n",
              "    <tr>\n",
              "      <th>75%</th>\n",
              "      <td>67.750000</td>\n",
              "      <td>5928.409750</td>\n",
              "      <td>1438.144017</td>\n",
              "      <td>0.000000</td>\n",
              "    </tr>\n",
              "    <tr>\n",
              "      <th>max</th>\n",
              "      <td>90.000000</td>\n",
              "      <td>47585.083000</td>\n",
              "      <td>14503.962560</td>\n",
              "      <td>3.140678</td>\n",
              "    </tr>\n",
              "  </tbody>\n",
              "</table>\n",
              "</div>"
            ],
            "text/plain": [
              "        OBJECTID        LENGTH  Shape_Length      MILES\n",
              "count  90.000000     90.000000     90.000000  90.000000\n",
              "mean   45.500000   5092.016700   1373.339267   0.252267\n",
              "std    26.124701   7571.370808   2117.107049   0.750409\n",
              "min     1.000000      0.000000      0.212543   0.000000\n",
              "25%    23.250000    359.804000    307.372020   0.000000\n",
              "50%    45.500000   2347.624500    722.545236   0.000000\n",
              "75%    67.750000   5928.409750   1438.144017   0.000000\n",
              "max    90.000000  47585.083000  14503.962560   3.140678"
            ]
          },
          "metadata": {
            "tags": []
          },
          "execution_count": 14
        }
      ]
    },
    {
      "cell_type": "code",
      "metadata": {
        "colab_type": "code",
        "id": "96Xy0mdKyIco",
        "colab": {}
      },
      "source": [
        "# Sometimes you have to supply the column heads.\n",
        "column_headers = ['name', 'landmass', 'zone', 'area', 'population', 'language', \n",
        "                  'religion', 'bars', 'stripes', 'colours', 'red', 'green', \n",
        "                  'blue', 'gold', 'white', 'black', 'orange', 'mainhue', \n",
        "                  'circles', 'crosses', 'saltires', 'quarters', 'sunstars', \n",
        "                  'crescent', 'triangle', 'icon', 'animate', 'text', 'topleft', \n",
        "                  'botright']\n",
        "flag_data_url = 'https://archive.ics.uci.edu/ml/machine-learning-databases/flags/flag.data'\n",
        "flags = pd.read_csv(flag_data_url)\n",
        "flags.head(header=None)"
      ],
      "execution_count": 0,
      "outputs": []
    },
    {
      "cell_type": "code",
      "metadata": {
        "colab_type": "code",
        "id": "rvidLCItqD_t",
        "colab": {}
      },
      "source": [
        "# Let's try another example.\n",
        "url='https://opendata.arcgis.com/datasets/2e65fc16edc3481989d2cc17e6f8c533_54.csv'\n",
        "# source: https://opendata.dc.gov/datasets/museums-in-dc/data"
      ],
      "execution_count": 0,
      "outputs": []
    },
    {
      "cell_type": "markdown",
      "metadata": {
        "colab_type": "text",
        "id": "grAuDrewxWxN"
      },
      "source": [
        "### Method 2. Read a file that is already in colab."
      ]
    },
    {
      "cell_type": "code",
      "metadata": {
        "colab_type": "code",
        "id": "F2SKljBayUzP",
        "colab": {}
      },
      "source": [
        "# So colab comes with some built in files.\n"
      ],
      "execution_count": 0,
      "outputs": []
    },
    {
      "cell_type": "code",
      "metadata": {
        "colab_type": "code",
        "id": "BRTviEe5yjlH",
        "colab": {}
      },
      "source": [
        "# you can also read a json file. Notice the difference in pandas method.\n"
      ],
      "execution_count": 0,
      "outputs": []
    },
    {
      "cell_type": "markdown",
      "metadata": {
        "colab_type": "text",
        "id": "qeHx6P28ytB4"
      },
      "source": [
        "### Method 3. Upload a file to colab.\n",
        "Reminder, uploaded files will get deleted when this runtime is recycled."
      ]
    },
    {
      "cell_type": "code",
      "metadata": {
        "colab_type": "code",
        "id": "t78DvRV2zgfa",
        "colab": {}
      },
      "source": [
        "# You can also use the manual upload GUI over on the left of your screen.\n"
      ],
      "execution_count": 0,
      "outputs": []
    },
    {
      "cell_type": "code",
      "metadata": {
        "colab_type": "code",
        "id": "m30HlA8uzwIR",
        "colab": {}
      },
      "source": [
        "# open the file"
      ],
      "execution_count": 0,
      "outputs": []
    },
    {
      "cell_type": "markdown",
      "metadata": {
        "colab_type": "text",
        "id": "-CSWxkb60T1X"
      },
      "source": [
        "###  Method 4. Read a file that's saved on github\n",
        "https://github.com/austinlasseter/dash-virginia-counties"
      ]
    },
    {
      "cell_type": "code",
      "metadata": {
        "colab_type": "code",
        "id": "xdrOK8Hb0oQC",
        "colab": {}
      },
      "source": [
        "# useful for reading raw data from github.\n",
        "url='https://raw.githubusercontent.com/austinlasseter/dash-virginia-counties/master/resources/acs2017_county_data.csv'\n",
        "# Source: https://github.com/austinlasseter/dash-virginia-counties/blob/master/resources/acs2017_county_data.csv"
      ],
      "execution_count": 0,
      "outputs": []
    },
    {
      "cell_type": "markdown",
      "metadata": {
        "colab_type": "text",
        "id": "CLkMz-Vr036O"
      },
      "source": [
        "### Method 5. Read a zip file."
      ]
    },
    {
      "cell_type": "code",
      "metadata": {
        "colab_type": "code",
        "id": "I7AK3MDR3TMR",
        "colab": {}
      },
      "source": [
        "# use the 'bang' for bash shell scripting.\n"
      ],
      "execution_count": 0,
      "outputs": []
    },
    {
      "cell_type": "code",
      "metadata": {
        "colab_type": "code",
        "id": "hjk1KJvz08ga",
        "colab": {}
      },
      "source": [
        "# the 'wget' command reads content from the web.\n",
        "# https://resources.lendingclub.com/LoanStats_2018Q4.csv.zip"
      ],
      "execution_count": 0,
      "outputs": []
    },
    {
      "cell_type": "code",
      "metadata": {
        "colab_type": "code",
        "id": "APhwauEt1F8w",
        "colab": {}
      },
      "source": [
        "# how do you unzip a .zip file in bash?\n"
      ],
      "execution_count": 0,
      "outputs": []
    },
    {
      "cell_type": "code",
      "metadata": {
        "colab_type": "code",
        "id": "d3KcFcwN33Uz",
        "colab": {}
      },
      "source": [
        "# Now you can read that csv file into pandas.\n"
      ],
      "execution_count": 0,
      "outputs": []
    },
    {
      "cell_type": "code",
      "metadata": {
        "colab_type": "code",
        "id": "f8Ngyd2q4cgP",
        "colab": {}
      },
      "source": [
        "# You can also save back to csv, but remember to skip the index.\n"
      ],
      "execution_count": 0,
      "outputs": []
    }
  ]
}